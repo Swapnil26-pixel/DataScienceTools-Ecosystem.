{
 "cells": [
  {
   "cell_type": "markdown",
   "id": "62d4961f-65db-445f-a4b8-e54960a49c87",
   "metadata": {},
   "source": [
    "Data Science Tools and Ecosystem"
   ]
  },
  {
   "cell_type": "code",
   "execution_count": null,
   "id": "2b9671bf-8841-4329-a6dc-91a9b7b908c4",
   "metadata": {},
   "outputs": [],
   "source": [
    "In this notebook, Data Science Tools and Ecosystems are summerized"
   ]
  },
  {
   "cell_type": "markdown",
   "id": "984acf15-43a4-46ce-8270-2e8386fc3461",
   "metadata": {},
   "source": [
    "Some of the popular languages that Data Scientists use are:abs\n",
    "1. Python\n",
    "2. R\n",
    "3. SQL"
   ]
  },
  {
   "cell_type": "markdown",
   "id": "c71a26cc-1c9d-4cf2-b3e0-4deb73766ea9",
   "metadata": {},
   "source": [
    "Some of the popular languages that Data Scientists use are:abs\n",
    "1. Python\n",
    "2. R\n",
    "3. SQL"
   ]
  },
  {
   "cell_type": "code",
   "execution_count": null,
   "id": "fdf5d468-a27f-4c68-a87d-28f7eecb54a8",
   "metadata": {
    "collapsed": true,
    "jupyter": {
     "outputs_hidden": true
    }
   },
   "outputs": [],
   "source": [
    "Some of the commonly used libraries by Data Scientist include:\n",
    "1. Pandas\n",
    "2. NumPy\n",
    "3. Matplotlib\n"
   ]
  },
  {
   "cell_type": "markdown",
   "id": "70a45fbe-8ceb-4018-9ba6-621811ec056e",
   "metadata": {},
   "source": [
    "| Data Science Tools        |\n",
    "|---------------------------|\n",
    "| Jupyter Notebook          |\n",
    "| RStudio                   |\n",
    "| Apache Zeppelin           |"
   ]
  },
  {
   "cell_type": "code",
   "execution_count": null,
   "id": "4f1466c6-d094-4178-9992-6410b6c4da88",
   "metadata": {},
   "outputs": [],
   "source": [
    "Below are few examples of evaluating ar ithematic expression in python"
   ]
  },
  {
   "cell_type": "code",
   "execution_count": 2,
   "id": "3849f210-f79f-4d94-b3c7-7ed415e93b29",
   "metadata": {},
   "outputs": [
    {
     "data": {
      "text/plain": [
       "17"
      ]
     },
     "execution_count": 2,
     "metadata": {},
     "output_type": "execute_result"
    }
   ],
   "source": [
    "# This is a simple arithmetic expression to multiply then add integers\n",
    "(3*4)+5"
   ]
  },
  {
   "cell_type": "code",
   "execution_count": 3,
   "id": "8d11a13f-f51d-436c-9a8c-06c5fc9f6772",
   "metadata": {},
   "outputs": [
    {
     "data": {
      "text/plain": [
       "3.3333333333333335"
      ]
     },
     "execution_count": 3,
     "metadata": {},
     "output_type": "execute_result"
    }
   ],
   "source": [
    "# This will convert 200 minutes to hours by dividing by 60\n",
    "200 / 60"
   ]
  },
  {
   "cell_type": "markdown",
   "id": "c6ff3add-574a-4bf7-a294-a68cd91ccafd",
   "metadata": {},
   "source": [
    "**Objectives:**\n",
    "- List popular languages for Data Science  \n",
    "- List commonly used libraries in Data Science  \n",
    "- Create and run arithmetic expressions in Python  \n",
    "- Understand basic markdown formatting  \n",
    "- Use tables in markdown"
   ]
  },
  {
   "cell_type": "code",
   "execution_count": null,
   "id": "a52521c0-b36d-498f-b21d-da384c0d8cd8",
   "metadata": {},
   "outputs": [],
   "source": [
    "## Author  \n",
    "Swapnil Dubey"
   ]
  }
 ],
 "metadata": {
  "kernelspec": {
   "display_name": "Python 3 (ipykernel)",
   "language": "python",
   "name": "python3"
  },
  "language_info": {
   "codemirror_mode": {
    "name": "ipython",
    "version": 3
   },
   "file_extension": ".py",
   "mimetype": "text/x-python",
   "name": "python",
   "nbconvert_exporter": "python",
   "pygments_lexer": "ipython3",
   "version": "3.12.8"
  }
 },
 "nbformat": 4,
 "nbformat_minor": 5
}
